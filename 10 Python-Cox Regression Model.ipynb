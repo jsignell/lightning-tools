{
 "cells": [
  {
   "cell_type": "code",
   "execution_count": 1,
   "metadata": {
    "collapsed": true
   },
   "outputs": [],
   "source": [
    "import os\n",
    "import numpy as np\n",
    "import pandas as pd\n",
    "import xarray as xr\n",
    "\n",
    "from pointprocess import *\n",
    "from lightning_setup import *"
   ]
  },
  {
   "cell_type": "markdown",
   "metadata": {},
   "source": [
    "EPK only because that is the area for which we have precipitable water data"
   ]
  },
  {
   "cell_type": "code",
   "execution_count": 2,
   "metadata": {
    "collapsed": true
   },
   "outputs": [],
   "source": [
    "c = Region(city=cities['cedar'])\n",
    "c.SUBSETTED = False\n",
    "c.CENTER = (37.7, -111.8)\n",
    "c.RADIUS = 0.6\n",
    "c.define_grid()\n",
    "\n",
    "version1 = pd.HDFStore('./output/Version1/store.h5')"
   ]
  },
  {
   "cell_type": "code",
   "execution_count": 3,
   "metadata": {
    "collapsed": true
   },
   "outputs": [],
   "source": [
    "df = pd.read_csv('../../lightning/pwv147215720409387.txt', delim_whitespace=True, skiprows=[1])"
   ]
  },
  {
   "cell_type": "code",
   "execution_count": 4,
   "metadata": {
    "collapsed": true
   },
   "outputs": [],
   "source": [
    "def dateparser(y, j, t):\n",
    "    x = ' '.join([y, str(int(float(j))), t])\n",
    "    return pd.datetime.strptime(x, '%Y %j %H:%M:%S')\n",
    "\n",
    "df = pd.read_csv('../../lightning/pwv147215720409387.txt', delim_whitespace=True, skiprows=[1], na_values=[-9.99],\n",
    "                 parse_dates={'time': [1,2,3]}, date_parser=dateparser, index_col='time')"
   ]
  },
  {
   "cell_type": "code",
   "execution_count": 5,
   "metadata": {
    "collapsed": true
   },
   "outputs": [],
   "source": [
    "IPW = df.resample('24H', base=12, label='right').mean()['IPW']"
   ]
  },
  {
   "cell_type": "markdown",
   "metadata": {},
   "source": [
    "You only need to run the cell below if you haven't already calculated EPK_FC_2010_2015"
   ]
  },
  {
   "cell_type": "code",
   "execution_count": 11,
   "metadata": {
    "collapsed": false
   },
   "outputs": [
    {
     "name": "stdout",
     "output_type": "stream",
     "text": [
      "CPU times: user 58.6 s, sys: 2.18 s, total: 1min\n",
      "Wall time: 1min 13s\n"
     ]
    }
   ],
   "source": [
    "%%time \n",
    "\n",
    "def get_FC(y):\n",
    "    ds = c.get_ds(y=y, filter_CG=dict(method='less_than', amax=-10), func=None)\n",
    "    df = ds.to_dataframe()\n",
    "    ds.close()\n",
    "    df.index = df.time\n",
    "    FC = df['lat'].resample('24H', base=12, label='right').count()\n",
    "    FC.name = 'FC'\n",
    "    return FC\n",
    "\n",
    "FC = get_FC(2010)\n",
    "for y in range(2011,2016):\n",
    "    FC = pd.concat([FC, get_FC(y)])\n",
    "\n",
    "version1['EPK_FC_2010_2015'] = FC"
   ]
  },
  {
   "cell_type": "code",
   "execution_count": 126,
   "metadata": {
    "collapsed": false
   },
   "outputs": [
    {
     "data": {
      "text/html": [
       "<div>\n",
       "<table border=\"1\" class=\"dataframe\">\n",
       "  <thead>\n",
       "    <tr style=\"text-align: right;\">\n",
       "      <th></th>\n",
       "      <th>IPW</th>\n",
       "      <th>FD</th>\n",
       "    </tr>\n",
       "    <tr>\n",
       "      <th>time</th>\n",
       "      <th></th>\n",
       "      <th></th>\n",
       "    </tr>\n",
       "  </thead>\n",
       "  <tbody>\n",
       "    <tr>\n",
       "      <th>2015-09-26 12:00:00</th>\n",
       "      <td>1.307917</td>\n",
       "      <td>0.000000</td>\n",
       "    </tr>\n",
       "    <tr>\n",
       "      <th>2015-09-27 12:00:00</th>\n",
       "      <td>1.343542</td>\n",
       "      <td>0.000000</td>\n",
       "    </tr>\n",
       "    <tr>\n",
       "      <th>2015-09-28 12:00:00</th>\n",
       "      <td>1.733542</td>\n",
       "      <td>0.000000</td>\n",
       "    </tr>\n",
       "    <tr>\n",
       "      <th>2015-09-29 12:00:00</th>\n",
       "      <td>2.184545</td>\n",
       "      <td>0.000677</td>\n",
       "    </tr>\n",
       "    <tr>\n",
       "      <th>2015-09-30 12:00:00</th>\n",
       "      <td>2.085111</td>\n",
       "      <td>0.000271</td>\n",
       "    </tr>\n",
       "  </tbody>\n",
       "</table>\n",
       "</div>"
      ],
      "text/plain": [
       "                          IPW        FD\n",
       "time                                   \n",
       "2015-09-26 12:00:00  1.307917  0.000000\n",
       "2015-09-27 12:00:00  1.343542  0.000000\n",
       "2015-09-28 12:00:00  1.733542  0.000000\n",
       "2015-09-29 12:00:00  2.184545  0.000677\n",
       "2015-09-30 12:00:00  2.085111  0.000271"
      ]
     },
     "execution_count": 126,
     "metadata": {},
     "output_type": "execute_result"
    }
   ],
   "source": [
    "EPK_FC = version1['EPK_FC_2010_2015']\n",
    "EPK_ngrids = c.gridx.shape[0]*c.gridy.shape[0]\n",
    "\n",
    "# convert counts to density\n",
    "df = pd.concat([IPW, EPK_FC/EPK_ngrids], axis=1)\n",
    "df.columns = ['IPW', 'FD']\n",
    "\n",
    "# the data really should end in Sept 2015 when we run out of lightning data\n",
    "df = df[:EPK_FC.index[-1]]\n",
    "\n",
    "# NAN values should really be zeros\n",
    "df['FD'] = df['FD'].fillna(0)\n",
    "\n",
    "df.tail()"
   ]
  },
  {
   "cell_type": "markdown",
   "metadata": {},
   "source": [
    "here is an example of the data.set:\n",
    "\n",
    "    \"YYYY\",\"MM\",\"DD\",\"START\",\"STOP\",\"EVENT\",\"X1\",\"X2\"\n",
    "    \"1988\",\"11\",\"03\",33,34,0,1.31938140222385,42.7067722733137\n",
    "    \"1988\",\"11\",\"04\",34,35,0,0,44.0261536755376\n",
    "    \n",
    "I work at the daily scale and consider the water year as my “patient”: this is why November 3rd has a start of 33 and an end of 34, November 4th has a start of 34 and an end of 35. “Event” is the success/failure (“1” if you have an event and “0” if you don’t)."
   ]
  },
  {
   "cell_type": "code",
   "execution_count": 127,
   "metadata": {
    "collapsed": false
   },
   "outputs": [],
   "source": [
    "from collections import OrderedDict\n",
    "\n",
    "d = {'YYYY': df.index.year,\n",
    "     'MM': df.index.month,\n",
    "     'DD': df.index.day,\n",
    "     'START': df.index.dayofyear-1,  # start at 0\n",
    "     'STOP': df.index.dayofyear,\n",
    "     'EVENT': np.sign(df['FD']),  # convert to 0,1\n",
    "     'X1': df['IPW']}\n",
    "\n",
    "OD = OrderedDict([(k, d[k]) for k in ['YYYY', 'MM', 'DD', 'START', 'STOP', 'EVENT', 'X1']])\n",
    "cox_df = pd.DataFrame(OD)\n",
    "\n",
    "# if we want to do something about missing values, we can try interpolating. \n",
    "# cox_df = cox_df.interpolate()\n",
    "\n",
    "cox_df.to_csv('cox_test.csv', index=False)"
   ]
  }
 ],
 "metadata": {
  "kernelspec": {
   "display_name": "Python 3",
   "language": "python",
   "name": "python3"
  },
  "language_info": {
   "codemirror_mode": {
    "name": "ipython",
    "version": 3
   },
   "file_extension": ".py",
   "mimetype": "text/x-python",
   "name": "python",
   "nbconvert_exporter": "python",
   "pygments_lexer": "ipython3",
   "version": "3.5.2"
  }
 },
 "nbformat": 4,
 "nbformat_minor": 0
}
