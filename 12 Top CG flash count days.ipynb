{
 "cells": [
  {
   "cell_type": "code",
   "execution_count": 1,
   "metadata": {
    "collapsed": false
   },
   "outputs": [],
   "source": [
    "import os\n",
    "import numpy as np\n",
    "import pandas as pd\n",
    "import xarray as xr\n",
    "\n",
    "import matplotlib.pyplot as plt\n",
    "%matplotlib inline\n",
    "\n",
    "from pointprocess import *\n",
    "from lightning_setup import *"
   ]
  },
  {
   "cell_type": "code",
   "execution_count": 2,
   "metadata": {
    "collapsed": false
   },
   "outputs": [],
   "source": [
    "def get_CG_FC(y):\n",
    "    ds = xr.open_mfdataset(c.PATH+'{y}_*_*.nc'.format(y=y))\n",
    "    df = ds.to_dataframe()\n",
    "    ds.close()\n",
    "\n",
    "    df = df[df['cloud_ground'] == b'G']\n",
    "    df.index = df.time\n",
    "    FC = df['lat'].resample('24H', base=12, label='right').count()\n",
    "    return FC"
   ]
  },
  {
   "cell_type": "code",
   "execution_count": 3,
   "metadata": {
    "collapsed": false
   },
   "outputs": [],
   "source": [
    "c = Region(city=cities['cedar'])\n",
    "c.define_grid()"
   ]
  },
  {
   "cell_type": "code",
   "execution_count": null,
   "metadata": {
    "collapsed": false
   },
   "outputs": [],
   "source": [
    "%%time\n",
    "FC = get_CG_FC(2010)\n",
    "for y in range(2011,2016):\n",
    "    FC = pd.concat([FC, get_CG_FC(y)])"
   ]
  },
  {
   "cell_type": "code",
   "execution_count": 46,
   "metadata": {
    "collapsed": false
   },
   "outputs": [],
   "source": [
    "top_200 = FC.sort_values(ascending=False)[:200]\n",
    "top_200.to_csv(\"Cedar_top_200_days_2010_2015.csv\")"
   ]
  }
 ],
 "metadata": {
  "kernelspec": {
   "display_name": "Python 3",
   "language": "python",
   "name": "python3"
  },
  "language_info": {
   "codemirror_mode": {
    "name": "ipython",
    "version": 3
   },
   "file_extension": ".py",
   "mimetype": "text/x-python",
   "name": "python",
   "nbconvert_exporter": "python",
   "pygments_lexer": "ipython3",
   "version": "3.5.2"
  }
 },
 "nbformat": 4,
 "nbformat_minor": 0
}
