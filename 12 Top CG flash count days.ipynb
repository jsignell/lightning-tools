{
 "cells": [
  {
   "cell_type": "code",
   "execution_count": 1,
   "metadata": {
    "collapsed": true
   },
   "outputs": [],
   "source": [
    "import numpy as np\n",
    "import pandas as pd\n",
    "import xarray as xr\n",
    "\n",
    "from pointprocess import *\n",
    "from lightning_setup import *"
   ]
  },
  {
   "cell_type": "code",
   "execution_count": 2,
   "metadata": {
    "collapsed": true
   },
   "outputs": [],
   "source": [
    "city = 'cedar'\n",
    "c = Region(city=cities[city])\n",
    "c.define_grid(step=1, units='km')"
   ]
  },
  {
   "cell_type": "code",
   "execution_count": 3,
   "metadata": {
    "collapsed": false
   },
   "outputs": [
    {
     "name": "stdout",
     "output_type": "stream",
     "text": [
      "CPU times: user 5min 4s, sys: 4.93 s, total: 5min 9s\n",
      "Wall time: 5min 4s\n"
     ]
    }
   ],
   "source": [
    "%%time\n",
    "def get_FC(region, y):\n",
    "    # filter CG using the flag in recent data, or by taking only strikes with\n",
    "    # amblitude less than a value, or less than one value and greater than another\n",
    "    ds = region.get_ds(y=y, filter_CG=dict(method='less_than', amax=-10), func=None)\n",
    "    df = ds.to_dataframe()\n",
    "    ds.close()\n",
    "    df.index = df.time\n",
    "    FC = df['lat'].resample('24H', base=12, label='right').count()\n",
    "    FC.name = 'FC'\n",
    "    return FC\n",
    "\n",
    "FC = get_FC(c, 1996)\n",
    "for y in range(1997,2017):\n",
    "    FC = pd.concat([FC, get_FC(c, y)])"
   ]
  },
  {
   "cell_type": "code",
   "execution_count": 34,
   "metadata": {
    "collapsed": false
   },
   "outputs": [
    {
     "data": {
      "text/plain": [
       "time\n",
       "2013-08-18 12:00:00    30330\n",
       "1997-09-09 12:00:00    27404\n",
       "1998-07-20 12:00:00    27192\n",
       "2001-08-13 12:00:00    24381\n",
       "1998-08-31 12:00:00    24175\n",
       "2001-08-20 12:00:00    24130\n",
       "2003-08-15 12:00:00    23857\n",
       "2003-08-16 12:00:00    23339\n",
       "2001-08-09 12:00:00    23240\n",
       "2012-08-22 12:00:00    22128\n",
       "Name: FC, dtype: int64"
      ]
     },
     "execution_count": 34,
     "metadata": {},
     "output_type": "execute_result"
    }
   ],
   "source": [
    "FC.sort_values(ascending=False, inplace=True)\n",
    "FC.head(10)"
   ]
  },
  {
   "cell_type": "code",
   "execution_count": 35,
   "metadata": {
    "collapsed": false
   },
   "outputs": [],
   "source": [
    "top_50 = FC.head(50)\n",
    "top_200 = FC.head(200)\n",
    "top_200.to_csv(\"Cedar_top_200_days_2010_2016.csv\")"
   ]
  },
  {
   "cell_type": "markdown",
   "metadata": {},
   "source": [
    "Smaller area flash count"
   ]
  },
  {
   "cell_type": "code",
   "execution_count": 36,
   "metadata": {
    "collapsed": true
   },
   "outputs": [],
   "source": [
    "EPK = Region(city=cities['cedar'])\n",
    "EPK.SUBSETTED = False\n",
    "EPK.CENTER = (37.7, -111.8)\n",
    "EPK.RADIUS = 0.7\n",
    "EPK.define_grid(step=1, units='km')"
   ]
  },
  {
   "cell_type": "code",
   "execution_count": 39,
   "metadata": {
    "collapsed": false
   },
   "outputs": [
    {
     "name": "stdout",
     "output_type": "stream",
     "text": [
      "CPU times: user 5min 50s, sys: 10.3 s, total: 6min\n",
      "Wall time: 5min 45s\n"
     ]
    }
   ],
   "source": [
    "%%time\n",
    "FC = get_FC(EPK, 1996)\n",
    "for y in range(1997,2017):\n",
    "    FC = pd.concat([FC, get_FC(EPK, y)])"
   ]
  },
  {
   "cell_type": "code",
   "execution_count": 40,
   "metadata": {
    "collapsed": false
   },
   "outputs": [
    {
     "data": {
      "text/plain": [
       "time\n",
       "2000-09-30 12:00:00    4126\n",
       "2001-08-22 12:00:00    3916\n",
       "2013-08-18 12:00:00    3406\n",
       "2006-07-22 12:00:00    3269\n",
       "2010-08-05 12:00:00    3147\n",
       "2001-08-09 12:00:00    3085\n",
       "1997-09-03 12:00:00    2912\n",
       "1997-10-03 12:00:00    2732\n",
       "1997-09-12 12:00:00    2507\n",
       "2002-08-20 12:00:00    2489\n",
       "Name: FC, dtype: int64"
      ]
     },
     "execution_count": 40,
     "metadata": {},
     "output_type": "execute_result"
    }
   ],
   "source": [
    "FC.sort_values(ascending=False, inplace=True)\n",
    "FC.head(10)"
   ]
  },
  {
   "cell_type": "markdown",
   "metadata": {},
   "source": [
    "Convert to density:"
   ]
  },
  {
   "cell_type": "code",
   "execution_count": 41,
   "metadata": {
    "collapsed": true
   },
   "outputs": [],
   "source": [
    "EPK.ngrid_cells = (EPK.gridx.size-1) * (EPK.gridy.size-1)\n",
    "\n",
    "flash_density = FC/float(EPK.ngrid_cells)"
   ]
  }
 ],
 "metadata": {
  "kernelspec": {
   "display_name": "Python [conda env:lightning]",
   "language": "python",
   "name": "conda-env-lightning-py"
  },
  "language_info": {
   "codemirror_mode": {
    "name": "ipython",
    "version": 3
   },
   "file_extension": ".py",
   "mimetype": "text/x-python",
   "name": "python",
   "nbconvert_exporter": "python",
   "pygments_lexer": "ipython3",
   "version": "3.5.2"
  }
 },
 "nbformat": 4,
 "nbformat_minor": 1
}
