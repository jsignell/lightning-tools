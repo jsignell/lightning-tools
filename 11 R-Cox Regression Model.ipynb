{
 "cells": [
  {
   "cell_type": "markdown",
   "metadata": {},
   "source": [
    "The code itself is very simple:\n",
    " \n",
    "\n",
    "    rm(list=ls(all=TRUE))\n",
    "\n",
    "    library(survival)\n",
    "    library(MASS)\n",
    "\n",
    "    #Reading the data\n",
    "    data.set <- read.table (\"cox_site_02136000.csv\", header=T, sep=\",\") #this will be different in your case\n",
    "\n",
    "    mod.2R=coxph(Surv(START,STOP,EVENT) ~ X1+X2,data=data.set)  #my predictors are X1 and X2, in your case the covariates tied to the atmospheric water vapor\n",
    "\n",
    "here is an example of the data.set:\n",
    " \n",
    "    \"YYYY\",\"MM\",\"DD\",\"START\",\"STOP\",\"EVENT\",\"X1\",\"X2\"\n",
    "    \"1988\",\"11\",\"03\",33,34,0,1.31938140222385,42.7067722733137\n",
    "    \"1988\",\"11\",\"04\",34,35,0,0,44.0261536755376\n",
    " \n",
    "I work at the daily scale and consider the water year as my “patient”: this is why November 3rd has a start of 33 and an end of 34, November 4th has a start of 34 and an end of 35. “Event” is the success/failure (“1” if you have an event and “0” if you don’t). "
   ]
  },
  {
   "cell_type": "code",
   "execution_count": 1,
   "metadata": {
    "collapsed": true
   },
   "outputs": [],
   "source": [
    "rm(list=ls(all=TRUE))"
   ]
  },
  {
   "cell_type": "code",
   "execution_count": 2,
   "metadata": {
    "collapsed": true
   },
   "outputs": [],
   "source": [
    "library(survival)\n",
    "library(MASS)"
   ]
  },
  {
   "cell_type": "code",
   "execution_count": 59,
   "metadata": {
    "collapsed": true
   },
   "outputs": [],
   "source": [
    "data.set <- read.table (\"cox_test.csv\", header=T, sep=\",\")"
   ]
  },
  {
   "cell_type": "code",
   "execution_count": 60,
   "metadata": {
    "collapsed": false
   },
   "outputs": [
    {
     "data": {
      "text/html": [
       "<table>\n",
       "<thead><tr><th></th><th scope=col>YYYY</th><th scope=col>MM</th><th scope=col>DD</th><th scope=col>START</th><th scope=col>STOP</th><th scope=col>EVENT</th><th scope=col>X1</th></tr></thead>\n",
       "<tbody>\n",
       "\t<tr><th scope=row>1</th><td>2010</td><td>1</td><td>1</td><td>0</td><td>1</td><td>0</td><td>0.8708333</td></tr>\n",
       "\t<tr><th scope=row>2</th><td>2010</td><td>1</td><td>2</td><td>1</td><td>2</td><td>0</td><td>0.8891892</td></tr>\n",
       "\t<tr><th scope=row>3</th><td>2010</td><td>1</td><td>3</td><td>2</td><td>3</td><td>0</td><td>0.6241304</td></tr>\n",
       "\t<tr><th scope=row>4</th><td>2010</td><td>1</td><td>4</td><td>3</td><td>4</td><td>0</td><td>0.6508696</td></tr>\n",
       "\t<tr><th scope=row>5</th><td>2010</td><td>1</td><td>5</td><td>4</td><td>5</td><td>0</td><td>0.6543478</td></tr>\n",
       "\t<tr><th scope=row>6</th><td>2010</td><td>1</td><td>6</td><td>5</td><td>6</td><td>0</td><td>0.6511905</td></tr>\n",
       "</tbody>\n",
       "</table>\n"
      ],
      "text/latex": [
       "\\begin{tabular}{r|lllllll}\n",
       "  & YYYY & MM & DD & START & STOP & EVENT & X1\\\\\n",
       "\\hline\n",
       "\t1 & 2010 & 1 & 1 & 0 & 1 & 0 & 0.8708333\\\\\n",
       "\t2 & 2010 & 1 & 2 & 1 & 2 & 0 & 0.8891892\\\\\n",
       "\t3 & 2010 & 1 & 3 & 2 & 3 & 0 & 0.6241304\\\\\n",
       "\t4 & 2010 & 1 & 4 & 3 & 4 & 0 & 0.6508696\\\\\n",
       "\t5 & 2010 & 1 & 5 & 4 & 5 & 0 & 0.6543478\\\\\n",
       "\t6 & 2010 & 1 & 6 & 5 & 6 & 0 & 0.6511905\\\\\n",
       "\\end{tabular}\n"
      ],
      "text/plain": [
       "  YYYY MM DD START STOP EVENT        X1\n",
       "1 2010  1  1     0    1     0 0.8708333\n",
       "2 2010  1  2     1    2     0 0.8891892\n",
       "3 2010  1  3     2    3     0 0.6241304\n",
       "4 2010  1  4     3    4     0 0.6508696\n",
       "5 2010  1  5     4    5     0 0.6543478\n",
       "6 2010  1  6     5    6     0 0.6511905"
      ]
     },
     "execution_count": 60,
     "metadata": {},
     "output_type": "execute_result"
    }
   ],
   "source": [
    "head(data.set)"
   ]
  },
  {
   "cell_type": "code",
   "execution_count": 61,
   "metadata": {
    "collapsed": false
   },
   "outputs": [],
   "source": [
    "mod.2R <- coxph(Surv(START,STOP,EVENT) ~ X1, data=data.set)"
   ]
  },
  {
   "cell_type": "code",
   "execution_count": 62,
   "metadata": {
    "collapsed": false
   },
   "outputs": [
    {
     "data": {
      "text/plain": [
       "Call:\n",
       "coxph(formula = Surv(START, STOP, EVENT) ~ X1, data = data.set)\n",
       "\n",
       "\n",
       "    coef exp(coef) se(coef)    z       p\n",
       "X1 1.823     6.192    0.359 5.08 3.8e-07\n",
       "\n",
       "Likelihood ratio test=37.7  on 1 df, p=8.23e-10\n",
       "n= 1991, number of events= 47 \n",
       "   (108 observations deleted due to missingness)"
      ]
     },
     "execution_count": 62,
     "metadata": {},
     "output_type": "execute_result"
    }
   ],
   "source": [
    "mod.2R"
   ]
  },
  {
   "cell_type": "code",
   "execution_count": 63,
   "metadata": {
    "collapsed": false
   },
   "outputs": [
    {
     "data": {
      "text/plain": [
       "       rho chisq     p\n",
       "X1 -0.0474 0.108 0.742"
      ]
     },
     "execution_count": 63,
     "metadata": {},
     "output_type": "execute_result"
    }
   ],
   "source": [
    "cox.zph(mod.2R)"
   ]
  },
  {
   "cell_type": "code",
   "execution_count": null,
   "metadata": {
    "collapsed": true
   },
   "outputs": [],
   "source": []
  }
 ],
 "metadata": {
  "kernelspec": {
   "display_name": "R",
   "language": "R",
   "name": "ir"
  },
  "language_info": {
   "codemirror_mode": "r",
   "file_extension": ".r",
   "mimetype": "text/x-r-source",
   "name": "R",
   "pygments_lexer": "r",
   "version": "3.2.2"
  }
 },
 "nbformat": 4,
 "nbformat_minor": 0
}
