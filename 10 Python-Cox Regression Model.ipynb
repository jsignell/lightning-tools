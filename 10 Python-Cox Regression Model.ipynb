{
 "cells": [
  {
   "cell_type": "code",
   "execution_count": 1,
   "metadata": {
    "collapsed": true
   },
   "outputs": [],
   "source": [
    "import os\n",
    "import numpy as np\n",
    "import pandas as pd\n",
    "import xarray as xr\n",
    "\n",
    "from pointprocess import *\n",
    "from lightning_setup import *\n",
    "%matplotlib inline"
   ]
  },
  {
   "cell_type": "markdown",
   "metadata": {},
   "source": [
    "EPK only because that is the area for which we have precipitable water data"
   ]
  },
  {
   "cell_type": "code",
   "execution_count": 2,
   "metadata": {
    "collapsed": false
   },
   "outputs": [],
   "source": [
    "c = Region(city=cities['cedar'])\n",
    "c.SUBSETTED = False\n",
    "c.CENTER = (37.7, -111.8)\n",
    "c.RADIUS = 0.6\n",
    "c.define_grid()\n",
    "\n",
    "version1 = pd.HDFStore('./output/Version1/store.h5')"
   ]
  },
  {
   "cell_type": "code",
   "execution_count": 3,
   "metadata": {
    "collapsed": false
   },
   "outputs": [],
   "source": [
    "ds = c.get_ds(y=2014, filter_CG=dict(method='less_than', amax=-10), func=None)"
   ]
  },
  {
   "cell_type": "code",
   "execution_count": 4,
   "metadata": {
    "collapsed": false
   },
   "outputs": [],
   "source": [
    "times = pd.DatetimeIndex(ds.time.values)"
   ]
  },
  {
   "cell_type": "code",
   "execution_count": 5,
   "metadata": {
    "collapsed": false
   },
   "outputs": [],
   "source": [
    "decimal_doy =  times.dayofyear + times.hour/24.+times.minute/(60*24.)+times.second/(60*60*24.)+times.nanosecond/(10000000*60*60*24.)"
   ]
  },
  {
   "cell_type": "code",
   "execution_count": 6,
   "metadata": {
    "collapsed": false
   },
   "outputs": [],
   "source": [
    "def dateparser(y, j, t):\n",
    "    x = ' '.join([y, str(int(float(j))), t])\n",
    "    return pd.datetime.strptime(x, '%Y %j %H:%M:%S')\n",
    "\n",
    "df = pd.read_csv('./input/pwv147215720409387.txt', delim_whitespace=True, skiprows=[1], na_values=[-9.99],\n",
    "                 parse_dates={'time': [1,2,3]}, date_parser=dateparser, index_col='time')"
   ]
  },
  {
   "cell_type": "code",
   "execution_count": 7,
   "metadata": {
    "collapsed": false
   },
   "outputs": [],
   "source": [
    "ipw = df.IPW"
   ]
  },
  {
   "cell_type": "code",
   "execution_count": 9,
   "metadata": {
    "collapsed": false,
    "scrolled": true
   },
   "outputs": [
    {
     "name": "stdout",
     "output_type": "stream",
     "text": [
      "CPU times: user 1.61 ms, sys: 0 ns, total: 1.61 ms\n",
      "Wall time: 1.11 ms\n"
     ]
    }
   ],
   "source": [
    "%%time\n",
    "ipw_nearest = ipw.reindex(times, method='nearest')"
   ]
  },
  {
   "cell_type": "code",
   "execution_count": 10,
   "metadata": {
    "collapsed": false
   },
   "outputs": [],
   "source": [
    "from collections import OrderedDict\n",
    "\n",
    "d = {'YYYY': times.year[1:],\n",
    "     'DOY': times.dayofyear[1:],\n",
    "     'DURATION': decimal_doy[1:]-decimal_doy[:-1],\n",
    "     'EVENT': 1,  \n",
    "     'X1': ipw_nearest[1:]}\n",
    "\n",
    "OD = OrderedDict([(k, d[k]) for k in ['DURATION', 'EVENT', 'X1', 'DOY']])\n",
    "cox_df = pd.DataFrame(OD)\n",
    "\n",
    "cox_df.dropna(how='any', inplace=True)"
   ]
  },
  {
   "cell_type": "code",
   "execution_count": 11,
   "metadata": {
    "collapsed": false
   },
   "outputs": [],
   "source": [
    "from lifelines import CoxPHFitter\n",
    "cf = CoxPHFitter()"
   ]
  },
  {
   "cell_type": "code",
   "execution_count": 12,
   "metadata": {
    "collapsed": false
   },
   "outputs": [
    {
     "data": {
      "text/plain": [
       "<lifelines.CoxPHFitter: fitted with 9486 observations, 0 censored>"
      ]
     },
     "execution_count": 12,
     "metadata": {},
     "output_type": "execute_result"
    }
   ],
   "source": [
    "cf.fit(cox_df, 'DURATION', 'EVENT')"
   ]
  },
  {
   "cell_type": "code",
   "execution_count": 13,
   "metadata": {
    "collapsed": false
   },
   "outputs": [
    {
     "name": "stdout",
     "output_type": "stream",
     "text": [
      "n=9486, number of events=9486\n",
      "\n",
      "         coef  exp(coef)  se(coef)         z         p  lower 0.95  upper 0.95     \n",
      "X1  1.103e-01  1.117e+00 9.165e-03 1.204e+01 2.291e-33   9.235e-02   1.283e-01  ***\n",
      "DOY 6.028e-02  1.062e+00 9.642e-03 6.252e+00 4.053e-10   4.138e-02   7.918e-02  ***\n",
      "---\n",
      "Signif. codes:  0 '***' 0.001 '**' 0.01 '*' 0.05 '.' 0.1 ' ' 1 \n",
      "\n",
      "Concordance = 0.537\n"
     ]
    }
   ],
   "source": [
    "cf.print_summary()"
   ]
  },
  {
   "cell_type": "code",
   "execution_count": 17,
   "metadata": {
    "collapsed": false
   },
   "outputs": [
    {
     "data": {
      "image/png": "[encoded data removed]",
      "text/plain": [
       "<matplotlib.figure.Figure at 0x7f54e7455c88>"
      ]
     },
     "metadata": {},
     "output_type": "display_data"
    }
   ],
   "source": [
    "cox_df.plot.scatter(x='DURATION', y='X1', c='DOY', sharex=False, cmap='hsv', vmin=0, vmax=365, edgecolor='None', figsize=(10,8));"
   ]
  }
 ],
 "metadata": {
  "kernelspec": {
   "display_name": "Python 3",
   "language": "python",
   "name": "python3"
  },
  "language_info": {
   "codemirror_mode": {
    "name": "ipython",
    "version": 3
   },
   "file_extension": ".py",
   "mimetype": "text/x-python",
   "name": "python",
   "nbconvert_exporter": "python",
   "pygments_lexer": "ipython3",
   "version": "3.5.2"
  }
 },
 "nbformat": 4,
 "nbformat_minor": 0
}
