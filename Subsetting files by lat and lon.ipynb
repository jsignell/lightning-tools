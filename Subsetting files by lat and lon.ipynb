{
 "cells": [
  {
   "cell_type": "markdown",
   "metadata": {},
   "source": [
    "## Create “subset” files for:\n",
    "\n",
    "a) Radars -  6 degree by 6 degree box centered on the radar\n",
    "- Cedar City, Utah - 37 degrees 35 minutes 27 seconds; 112 51 44\n",
    "- Phoenix, AZ - 33 17 21 ; 111 40 12\n",
    "- Greer, SC - 34 53 00 ; 082 13 12\n",
    "- Sterling, VA - 38 58 31 ; 077 28 40 \n",
    "- Denver, CO - 39 47 12 ; 104 32 45\n",
    "\n",
    "b) Columbia Plateau and Surroundings: 41 - 49 lat by 123 - 115 lon"
   ]
  },
  {
   "cell_type": "code",
   "execution_count": 1,
   "metadata": {
    "collapsed": true
   },
   "outputs": [],
   "source": [
    "import os\n",
    "import numpy as np\n",
    "import pandas as pd\n",
    "import xarray as xr"
   ]
  },
  {
   "cell_type": "code",
   "execution_count": 2,
   "metadata": {
    "collapsed": true
   },
   "outputs": [],
   "source": [
    "from __init__ import *"
   ]
  },
  {
   "cell_type": "code",
   "execution_count": 5,
   "metadata": {
    "collapsed": false
   },
   "outputs": [
    {
     "data": {
      "text/html": [
       "<div>\n",
       "<table border=\"1\" class=\"dataframe\">\n",
       "  <thead>\n",
       "    <tr style=\"text-align: right;\">\n",
       "      <th></th>\n",
       "      <th>lat</th>\n",
       "      <th>lon</th>\n",
       "      <th>path</th>\n",
       "      <th>r</th>\n",
       "    </tr>\n",
       "  </thead>\n",
       "  <tbody>\n",
       "    <tr>\n",
       "      <th>cedar</th>\n",
       "      <td>37.5908</td>\n",
       "      <td>-112.862</td>\n",
       "      <td>/home/jsignell/erddapData/Cloud_to_Ground_Ligh...</td>\n",
       "      <td>3</td>\n",
       "    </tr>\n",
       "    <tr>\n",
       "      <th>columbia</th>\n",
       "      <td>45</td>\n",
       "      <td>-119</td>\n",
       "      <td>/home/jsignell/erddapData/Cloud_to_Ground_Ligh...</td>\n",
       "      <td>4</td>\n",
       "    </tr>\n",
       "    <tr>\n",
       "      <th>denver</th>\n",
       "      <td>39.7867</td>\n",
       "      <td>-104.546</td>\n",
       "      <td>/home/jsignell/erddapData/Cloud_to_Ground_Ligh...</td>\n",
       "      <td>3</td>\n",
       "    </tr>\n",
       "    <tr>\n",
       "      <th>greer</th>\n",
       "      <td>34.8833</td>\n",
       "      <td>-82.22</td>\n",
       "      <td>/home/jsignell/erddapData/Cloud_to_Ground_Ligh...</td>\n",
       "      <td>3</td>\n",
       "    </tr>\n",
       "    <tr>\n",
       "      <th>phoenix</th>\n",
       "      <td>33.2892</td>\n",
       "      <td>-111.67</td>\n",
       "      <td>/home/jsignell/erddapData/Cloud_to_Ground_Ligh...</td>\n",
       "      <td>3</td>\n",
       "    </tr>\n",
       "    <tr>\n",
       "      <th>sterling</th>\n",
       "      <td>38.9753</td>\n",
       "      <td>-77.4778</td>\n",
       "      <td>/home/jsignell/erddapData/Cloud_to_Ground_Ligh...</td>\n",
       "      <td>3</td>\n",
       "    </tr>\n",
       "  </tbody>\n",
       "</table>\n",
       "</div>"
      ],
      "text/plain": [
       "              lat      lon                                               path  \\\n",
       "cedar     37.5908 -112.862  /home/jsignell/erddapData/Cloud_to_Ground_Ligh...   \n",
       "columbia       45     -119  /home/jsignell/erddapData/Cloud_to_Ground_Ligh...   \n",
       "denver    39.7867 -104.546  /home/jsignell/erddapData/Cloud_to_Ground_Ligh...   \n",
       "greer     34.8833   -82.22  /home/jsignell/erddapData/Cloud_to_Ground_Ligh...   \n",
       "phoenix   33.2892  -111.67  /home/jsignell/erddapData/Cloud_to_Ground_Ligh...   \n",
       "sterling  38.9753 -77.4778  /home/jsignell/erddapData/Cloud_to_Ground_Ligh...   \n",
       "\n",
       "          r  \n",
       "cedar     3  \n",
       "columbia  4  \n",
       "denver    3  \n",
       "greer     3  \n",
       "phoenix   3  \n",
       "sterling  3  "
      ]
     },
     "execution_count": 5,
     "metadata": {},
     "output_type": "execute_result"
    }
   ],
   "source": [
    "pd.DataFrame(cities).T"
   ]
  },
  {
   "cell_type": "markdown",
   "metadata": {},
   "source": [
    "Benchmarking outcomes:\n",
    " - 2015_07_14 (2808266 records): 7.63ms to open dataset, 951ms to bound, save, and close\n",
    " - 1991_01_22 (2 records): 2.25ms to open dataset, 8.48ms to bound, and close"
   ]
  },
  {
   "cell_type": "code",
   "execution_count": 11,
   "metadata": {
    "collapsed": false
   },
   "outputs": [],
   "source": [
    "def bound(ds, lat, lon, r):\n",
    "    bounding_box = ((ds.lat<(lat+r)) & (ds.lat>(lat-r)) & (ds.lon<(lon+r)) & (ds.lon>(lon-r)))\n",
    "    return(ds.where(bounding_box).dropna('record'))"
   ]
  },
  {
   "cell_type": "code",
   "execution_count": 23,
   "metadata": {
    "collapsed": true
   },
   "outputs": [],
   "source": [
    "fnames = os.listdir(out_path)"
   ]
  },
  {
   "cell_type": "code",
   "execution_count": null,
   "metadata": {
    "collapsed": false
   },
   "outputs": [
    {
     "name": "stdout",
     "output_type": "stream",
     "text": [
      "1995_01_10.nc\n",
      "1995_01_20.nc\n",
      "1995_01_30.nc\n",
      "1995_02_09.nc\n",
      "1995_02_19.nc\n",
      "1995_03_01.nc\n",
      "1995_03_11.nc\n"
     ]
    }
   ],
   "source": [
    "count=0\n",
    "for fname in fnames:\n",
    "    ds = xr.open_dataset(out_path+fname)\n",
    "    for k, v in cities.items():\n",
    "        ds0 = bound(ds, v['lat'],v['lon'],v['r'])\n",
    "        if ds0.dims.values()[0] > 0:\n",
    "            ds0.to_netcdf('{path}{fname}'.format(path=v['path'], fname=fname), \n",
    "                          format='netCDF4', engine='netcdf4')\n",
    "        ds0.close()\n",
    "    ds.close()\n",
    "    count+=1\n",
    "    if count%10 == 0:\n",
    "        print fname"
   ]
  },
  {
   "cell_type": "code",
   "execution_count": null,
   "metadata": {
    "collapsed": true
   },
   "outputs": [],
   "source": []
  }
 ],
 "metadata": {
  "kernelspec": {
   "display_name": "Python 2",
   "language": "python",
   "name": "python2"
  },
  "language_info": {
   "codemirror_mode": {
    "name": "ipython",
    "version": 2
   },
   "file_extension": ".py",
   "mimetype": "text/x-python",
   "name": "python",
   "nbconvert_exporter": "python",
   "pygments_lexer": "ipython2",
   "version": "2.7.11"
  }
 },
 "nbformat": 4,
 "nbformat_minor": 0
}
