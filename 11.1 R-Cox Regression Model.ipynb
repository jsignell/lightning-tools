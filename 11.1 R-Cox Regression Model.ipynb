{
 "cells": [
  {
   "cell_type": "markdown",
   "metadata": {},
   "source": [
    "The code itself is very simple:\n",
    " \n",
    "\n",
    "    rm(list=ls(all=TRUE))\n",
    "\n",
    "    library(survival)\n",
    "    library(MASS)\n",
    "\n",
    "    #Reading the data\n",
    "    data.set <- read.table (\"cox_site_02136000.csv\", header=T, sep=\",\") #this will be different in your case\n",
    "\n",
    "    mod.2R=coxph(Surv(START,STOP,EVENT) ~ X1+X2,data=data.set)  #my predictors are X1 and X2, in your case the covariates tied to the atmospheric water vapor\n",
    "\n",
    "here is an example of the data.set:\n",
    " \n",
    "    \"YYYY\",\"MM\",\"DD\",\"START\",\"STOP\",\"EVENT\",\"X1\",\"X2\"\n",
    "    \"1988\",\"11\",\"03\",33,34,0,1.31938140222385,42.7067722733137\n",
    "    \"1988\",\"11\",\"04\",34,35,0,0,44.0261536755376\n",
    " \n",
    "I work at the daily scale and consider the water year as my “patient”: this is why November 3rd has a start of 33 and an end of 34, November 4th has a start of 34 and an end of 35. “Event” is the success/failure (“1” if you have an event and “0” if you don’t). "
   ]
  },
  {
   "cell_type": "code",
   "execution_count": 17,
   "metadata": {
    "collapsed": true
   },
   "outputs": [],
   "source": [
    "# set up the default plot height and width (this is just for aesthetics in the jupyter notebook, you won't need it in RStudio)\n",
    "library('repr')\n",
    "options(repr.plot.width=6, repr.plot.height=5)"
   ]
  },
  {
   "cell_type": "code",
   "execution_count": 18,
   "metadata": {
    "collapsed": true
   },
   "outputs": [],
   "source": [
    "library(survival)\n",
    "library(MASS)"
   ]
  },
  {
   "cell_type": "code",
   "execution_count": 25,
   "metadata": {
    "collapsed": true
   },
   "outputs": [],
   "source": [
    "data.set <- read.table (\"cox_test.csv\", header=T, sep=\",\")"
   ]
  },
  {
   "cell_type": "code",
   "execution_count": 26,
   "metadata": {
    "collapsed": false
   },
   "outputs": [
    {
     "data": {
      "text/html": [
       "<table>\n",
       "<thead><tr><th></th><th scope=col>YYYY</th><th scope=col>MM</th><th scope=col>DD</th><th scope=col>START</th><th scope=col>STOP</th><th scope=col>EVENT</th><th scope=col>X1</th></tr></thead>\n",
       "<tbody>\n",
       "\t<tr><th scope=row>1</th><td>2015.00000</td><td>   2.00000</td><td>  28.00000</td><td>  59.03270</td><td>  59.06258</td><td>   1.00000</td><td>   1.05000</td></tr>\n",
       "\t<tr><th scope=row>2</th><td>2015.00000</td><td>   2.00000</td><td>  28.00000</td><td>  59.06258</td><td>  59.06520</td><td>   1.00000</td><td>   1.05000</td></tr>\n",
       "\t<tr><th scope=row>3</th><td>2015.00000</td><td>   2.00000</td><td>  28.00000</td><td>  59.06520</td><td>  59.06853</td><td>   1.00000</td><td>   1.05000</td></tr>\n",
       "\t<tr><th scope=row>4</th><td>2015.00000</td><td>   4.00000</td><td>  19.00000</td><td>  59.06853</td><td> 109.90697</td><td>   1.00000</td><td>   0.88000</td></tr>\n",
       "\t<tr><th scope=row>5</th><td>2015.000</td><td>   4.000</td><td>  19.000</td><td> 109.907</td><td> 109.931</td><td>   1.000</td><td>   0.910</td></tr>\n",
       "\t<tr><th scope=row>6</th><td>2015.000</td><td>   4.000</td><td>  19.000</td><td> 109.931</td><td> 109.932</td><td>   1.000</td><td>   0.910</td></tr>\n",
       "</tbody>\n",
       "</table>\n"
      ],
      "text/latex": [
       "\\begin{tabular}{r|lllllll}\n",
       "  & YYYY & MM & DD & START & STOP & EVENT & X1\\\\\n",
       "\\hline\n",
       "\t1 & 2015.00000 &    2.00000 &   28.00000 &   59.03270 &   59.06258 &    1.00000 &    1.05000\\\\\n",
       "\t2 & 2015.00000 &    2.00000 &   28.00000 &   59.06258 &   59.06520 &    1.00000 &    1.05000\\\\\n",
       "\t3 & 2015.00000 &    2.00000 &   28.00000 &   59.06520 &   59.06853 &    1.00000 &    1.05000\\\\\n",
       "\t4 & 2015.00000 &    4.00000 &   19.00000 &   59.06853 &  109.90697 &    1.00000 &    0.88000\\\\\n",
       "\t5 & 2015.000 &    4.000 &   19.000 &  109.907 &  109.931 &    1.000 &    0.910\\\\\n",
       "\t6 & 2015.000 &    4.000 &   19.000 &  109.931 &  109.932 &    1.000 &    0.910\\\\\n",
       "\\end{tabular}\n"
      ],
      "text/plain": [
       "  YYYY MM DD     START      STOP EVENT   X1\n",
       "1 2015  2 28  59.03270  59.06258     1 1.05\n",
       "2 2015  2 28  59.06258  59.06520     1 1.05\n",
       "3 2015  2 28  59.06520  59.06853     1 1.05\n",
       "4 2015  4 19  59.06853 109.90697     1 0.88\n",
       "5 2015  4 19 109.90697 109.93101     1 0.91\n",
       "6 2015  4 19 109.93101 109.93199     1 0.91"
      ]
     },
     "metadata": {},
     "output_type": "display_data"
    }
   ],
   "source": [
    "head(data.set)"
   ]
  },
  {
   "cell_type": "code",
   "execution_count": 27,
   "metadata": {
    "collapsed": false
   },
   "outputs": [
    {
     "name": "stderr",
     "output_type": "stream",
     "text": [
      "Warning message:\n",
      "In Surv(START, STOP, EVENT): Stop time must be > start time, NA created"
     ]
    }
   ],
   "source": [
    "mod.2R <- coxph(Surv(START,STOP,EVENT) ~ X1, data=data.set)"
   ]
  },
  {
   "cell_type": "code",
   "execution_count": 28,
   "metadata": {
    "collapsed": false
   },
   "outputs": [
    {
     "data": {
      "text/plain": [
       "Call:\n",
       "coxph(formula = Surv(START, STOP, EVENT) ~ X1, data = data.set)\n",
       "\n",
       "   coef exp(coef) se(coef)  z  p\n",
       "X1    0         1        0 NA NA\n",
       "\n",
       "Likelihood ratio test=0  on 1 df, p=1\n",
       "n= 11273, number of events= 11273 \n",
       "   (4463 observations deleted due to missingness)"
      ]
     },
     "metadata": {},
     "output_type": "display_data"
    }
   ],
   "source": [
    "mod.2R"
   ]
  },
  {
   "cell_type": "code",
   "execution_count": 29,
   "metadata": {
    "collapsed": false
   },
   "outputs": [
    {
     "name": "stderr",
     "output_type": "stream",
     "text": [
      "Warning message:\n",
      "In Surv(START, STOP, EVENT): Stop time must be > start time, NA createdWarning message:\n",
      "In cor(xx, r2): the standard deviation is zero"
     ]
    },
    {
     "data": {
      "text/plain": [
       "   rho chisq   p\n",
       "X1  NA   NaN NaN"
      ]
     },
     "metadata": {},
     "output_type": "display_data"
    }
   ],
   "source": [
    "## Check for violation of proportional hazard (constant HR over time)\n",
    "(res.zph1 <- cox.zph(mod.2R))"
   ]
  },
  {
   "cell_type": "code",
   "execution_count": 13,
   "metadata": {
    "collapsed": false
   },
   "outputs": [
    {
     "data": {
      "text/plain": [
       "NULL"
      ]
     },
     "metadata": {},
     "output_type": "display_data"
    },
    {
     "data": {},
     "metadata": {
      "image/svg+xml": {
       "isolated": true
      }
     },
     "output_type": "display_data"
    }
   ],
   "source": [
    "plot(res.zph1)"
   ]
  }
 ],
 "metadata": {
  "kernelspec": {
   "display_name": "R",
   "language": "R",
   "name": "ir"
  },
  "language_info": {
   "codemirror_mode": "r",
   "file_extension": ".r",
   "mimetype": "text/x-r-source",
   "name": "R",
   "pygments_lexer": "r",
   "version": "3.3.1"
  }
 },
 "nbformat": 4,
 "nbformat_minor": 0
}
