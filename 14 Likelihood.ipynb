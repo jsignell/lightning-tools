{
 "cells": [
  {
   "cell_type": "code",
   "execution_count": 1,
   "metadata": {
    "collapsed": true
   },
   "outputs": [],
   "source": [
    "import os\n",
    "import numpy as np\n",
    "import pandas as pd\n",
    "import xarray as xr\n",
    "\n",
    "from pointprocess import *\n",
    "import pointprocess.plotting as pplot\n",
    "from lightning_setup import *\n",
    "%matplotlib inline\n",
    "import matplotlib.pyplot as plt\n",
    "import cartopy.crs as ccrs"
   ]
  },
  {
   "cell_type": "code",
   "execution_count": 2,
   "metadata": {
    "collapsed": false
   },
   "outputs": [],
   "source": [
    "c = Region(city=cities['cedar'])\n",
    "c.SUBSETTED = False\n",
    "c.CENTER = (37.7, -111.8)\n",
    "c.RADIUS = 0.7\n",
    "c.define_grid(step=1, units='km')"
   ]
  },
  {
   "cell_type": "code",
   "execution_count": 6,
   "metadata": {
    "collapsed": true
   },
   "outputs": [],
   "source": [
    "storm = '2011-08-21'"
   ]
  },
  {
   "cell_type": "code",
   "execution_count": 7,
   "metadata": {
    "collapsed": true
   },
   "outputs": [],
   "source": [
    "from titan import *\n",
    "fname = './input/{storm}.txt'.format(storm=storm)\n",
    "titan_df = read_TITAN(fname)"
   ]
  },
  {
   "cell_type": "code",
   "execution_count": 9,
   "metadata": {
    "collapsed": true
   },
   "outputs": [],
   "source": [
    "ds = c.get_daily_ds(storm, filter_CG=dict(method='CG'))"
   ]
  },
  {
   "cell_type": "code",
   "execution_count": 10,
   "metadata": {
    "collapsed": false
   },
   "outputs": [],
   "source": [
    "# slice according to the titan times\n",
    "box, tr = c.get_grid_slices(ds, tr=titan_df.index)\n",
    "tr = tr[1:]"
   ]
  },
  {
   "cell_type": "code",
   "execution_count": 11,
   "metadata": {
    "collapsed": true
   },
   "outputs": [],
   "source": [
    "def Equation_19(box):\n",
    "    # total number of time periods\n",
    "    n1 = box.shape[0]\n",
    "\n",
    "    # total number of grids\n",
    "    n2 = box.shape[1] * box.shape[2]\n",
    "\n",
    "    # sum of counts over all the grid cells divided by n2\n",
    "    A = box.sum(axis=(1,2))/n2\n",
    "\n",
    "    # sum of counts over all the timesteps divided by n1\n",
    "    B = box.sum(axis=0).flatten()/n1\n",
    "\n",
    "    # 1 over sum of counts divided by n1 and n2\n",
    "    C = 1/(box.sum()/n1/n2)\n",
    "\n",
    "    # control lambda of k, l\n",
    "    lambda_k_l = np.outer(A, B)*C\n",
    "    \n",
    "    return lambda_k_l\n",
    "\n",
    "def Equation_18(box):\n",
    "    lambda_k_l = Equation_19(box)\n",
    "    return ((box - lambda_k_l.reshape(box.shape))**2).sum()"
   ]
  },
  {
   "cell_type": "code",
   "execution_count": 12,
   "metadata": {
    "collapsed": false
   },
   "outputs": [
    {
     "name": "stdout",
     "output_type": "stream",
     "text": [
      "CPU times: user 25.5 ms, sys: 105 ms, total: 131 ms\n",
      "Wall time: 130 ms\n"
     ]
    },
    {
     "data": {
      "text/plain": [
       "3459.6552595380917"
      ]
     },
     "execution_count": 12,
     "metadata": {},
     "output_type": "execute_result"
    }
   ],
   "source": [
    "%%time\n",
    "Equation_18(box)"
   ]
  },
  {
   "cell_type": "markdown",
   "metadata": {},
   "source": [
    "How to minimize a function using scipy"
   ]
  },
  {
   "cell_type": "code",
   "execution_count": 75,
   "metadata": {
    "collapsed": false
   },
   "outputs": [
    {
     "name": "stdout",
     "output_type": "stream",
     "text": [
      "      fun: 1.0870175380483847e-08\n",
      " hess_inv: array([[  5.00000028e-01,  -5.43388051e-09,  -4.99999984e-01],\n",
      "       [ -5.43388053e-09,   3.21899710e-08,   2.46385066e-08],\n",
      "       [ -4.99999984e-01,   2.46385065e-08,   5.00000004e-01]])\n",
      "      jac: array([ 0.25916438, -0.1799024 ,  0.25916442])\n",
      "  message: 'Desired error not necessarily achieved due to precision loss.'\n",
      "     nfev: 582\n",
      "      nit: 4\n",
      "     njev: 114\n",
      "   status: 2\n",
      "  success: False\n",
      "        x: array([ -4.13299130e-09,  -9.16501410e-09,  -4.13299073e-09])\n"
     ]
    }
   ],
   "source": [
    "import scipy.optimize as optimize\n",
    "\n",
    "def f(c):\n",
    "    return np.sqrt(c[0]**2 + c[1]**2 + c[2]**2)\n",
    "\n",
    "result = optimize.minimize(f, [2,1,2])\n",
    "print(result)"
   ]
  },
  {
   "cell_type": "code",
   "execution_count": 103,
   "metadata": {
    "collapsed": false
   },
   "outputs": [
    {
     "data": {
      "text/plain": [
       "[<matplotlib.lines.Line2D at 0x7f8ef449e908>]"
      ]
     },
     "execution_count": 103,
     "metadata": {},
     "output_type": "execute_result"
    },
    {
     "data": {
      "image/png": "[encoded data removed]",
      "text/plain": [
       "<matplotlib.figure.Figure at 0x7f8ef4572b38>"
      ]
     },
     "metadata": {},
     "output_type": "display_data"
    }
   ],
   "source": [
    "x = np.arange(0,np.pi*2, .1)\n",
    "plt.plot(x, np.sin(x))"
   ]
  },
  {
   "cell_type": "code",
   "execution_count": 110,
   "metadata": {
    "collapsed": false
   },
   "outputs": [
    {
     "data": {
      "text/plain": [
       "     fun: -0.9999999999991519\n",
       " message: 'Solution found.'\n",
       "    nfev: 9\n",
       "  status: 0\n",
       " success: True\n",
       "       x: 4.7123876779706997"
      ]
     },
     "execution_count": 110,
     "metadata": {},
     "output_type": "execute_result"
    }
   ],
   "source": [
    "def f(x):\n",
    "    return np.sin(x)\n",
    "optimize.minimize_scalar(f, method='bounded', bounds=(0, 2*np.pi))"
   ]
  },
  {
   "cell_type": "code",
   "execution_count": 49,
   "metadata": {
    "collapsed": false
   },
   "outputs": [
    {
     "data": {
      "text/plain": [
       "['MaxDBZ(dBZ)',\n",
       " 'MaxDBZGradient(dBZ/km)',\n",
       " 'HtOfMaxDBZ(km)',\n",
       " 'VilFromMaxZ(kg/m2)',\n",
       " 'DdBzMax/Dt(dBZ/hr)']"
      ]
     },
     "execution_count": 49,
     "metadata": {},
     "output_type": "execute_result"
    }
   ],
   "source": [
    "[col for col in titan_df.columns if 'max' in col.lower()]"
   ]
  },
  {
   "cell_type": "code",
   "execution_count": 58,
   "metadata": {
    "collapsed": false
   },
   "outputs": [],
   "source": [
    "mini_df = titan_df[['EnvelopeArea(km2)', 'ReflCentroidLat(deg)', 'ReflCentroidLon(deg)', 'MaxDBZ(dBZ)']]\n",
    "mini_df.columns = ['Ai', 'lat', 'lon', 'Z1']"
   ]
  },
  {
   "cell_type": "code",
   "execution_count": 59,
   "metadata": {
    "collapsed": false
   },
   "outputs": [],
   "source": [
    "# if lat, lon are within bounds, get the grid cell they fall in.\n",
    "def func(x, grid_lon):\n",
    "    if x<grid_lon[-1] and x>grid_lon[0]:\n",
    "        return np.argmax(grid_lon>x)\n",
    "    else:\n",
    "        return None\n",
    "    \n",
    "mini_df = mini_df.assign(x=mini_df.lon.apply(func, grid_lon=c.gridx),\n",
    "                         y=mini_df.lat.apply(func, grid_lon=c.gridy))"
   ]
  },
  {
   "cell_type": "code",
   "execution_count": 60,
   "metadata": {
    "collapsed": false
   },
   "outputs": [],
   "source": [
    "xx, yy = np.meshgrid(c.gridx[1:], c.gridy[1:])\n",
    "xx = xx.flatten()\n",
    "yy = yy.flatten()"
   ]
  },
  {
   "cell_type": "code",
   "execution_count": 61,
   "metadata": {
    "collapsed": false
   },
   "outputs": [
    {
     "data": {
      "text/html": [
       "<div>\n",
       "<table border=\"1\" class=\"dataframe\">\n",
       "  <thead>\n",
       "    <tr style=\"text-align: right;\">\n",
       "      <th></th>\n",
       "      <th>Ai</th>\n",
       "      <th>lat</th>\n",
       "      <th>lon</th>\n",
       "      <th>Z1</th>\n",
       "      <th>x</th>\n",
       "      <th>y</th>\n",
       "      <th>l</th>\n",
       "    </tr>\n",
       "    <tr>\n",
       "      <th>date_time</th>\n",
       "      <th></th>\n",
       "      <th></th>\n",
       "      <th></th>\n",
       "      <th></th>\n",
       "      <th></th>\n",
       "      <th></th>\n",
       "      <th></th>\n",
       "    </tr>\n",
       "  </thead>\n",
       "  <tbody>\n",
       "    <tr>\n",
       "      <th>2011-08-21 18:10:20</th>\n",
       "      <td>4</td>\n",
       "      <td>38.2054</td>\n",
       "      <td>-111.485</td>\n",
       "      <td>48.4944</td>\n",
       "      <td>90.0</td>\n",
       "      <td>86.0</td>\n",
       "      <td>10629.0</td>\n",
       "    </tr>\n",
       "    <tr>\n",
       "      <th>2011-08-21 18:13:28</th>\n",
       "      <td>6</td>\n",
       "      <td>38.2083</td>\n",
       "      <td>-111.477</td>\n",
       "      <td>47.4992</td>\n",
       "      <td>91.0</td>\n",
       "      <td>86.0</td>\n",
       "      <td>10630.0</td>\n",
       "    </tr>\n",
       "    <tr>\n",
       "      <th>2011-08-21 18:16:37</th>\n",
       "      <td>7</td>\n",
       "      <td>38.2125</td>\n",
       "      <td>-111.477</td>\n",
       "      <td>50.6413</td>\n",
       "      <td>91.0</td>\n",
       "      <td>87.0</td>\n",
       "      <td>10754.0</td>\n",
       "    </tr>\n",
       "    <tr>\n",
       "      <th>2011-08-21 18:19:58</th>\n",
       "      <td>6</td>\n",
       "      <td>38.2181</td>\n",
       "      <td>-111.474</td>\n",
       "      <td>48.9443</td>\n",
       "      <td>91.0</td>\n",
       "      <td>87.0</td>\n",
       "      <td>10754.0</td>\n",
       "    </tr>\n",
       "    <tr>\n",
       "      <th>2011-08-21 18:23:06</th>\n",
       "      <td>2</td>\n",
       "      <td>38.2243</td>\n",
       "      <td>-111.471</td>\n",
       "      <td>46.5974</td>\n",
       "      <td>91.0</td>\n",
       "      <td>87.0</td>\n",
       "      <td>10754.0</td>\n",
       "    </tr>\n",
       "  </tbody>\n",
       "</table>\n",
       "</div>"
      ],
      "text/plain": [
       "                     Ai      lat      lon       Z1     x     y        l\n",
       "date_time                                                              \n",
       "2011-08-21 18:10:20   4  38.2054 -111.485  48.4944  90.0  86.0  10629.0\n",
       "2011-08-21 18:13:28   6  38.2083 -111.477  47.4992  91.0  86.0  10630.0\n",
       "2011-08-21 18:16:37   7  38.2125 -111.477  50.6413  91.0  87.0  10754.0\n",
       "2011-08-21 18:19:58   6  38.2181 -111.474  48.9443  91.0  87.0  10754.0\n",
       "2011-08-21 18:23:06   2  38.2243 -111.471  46.5974  91.0  87.0  10754.0"
      ]
     },
     "execution_count": 61,
     "metadata": {},
     "output_type": "execute_result"
    }
   ],
   "source": [
    "mini_df = mini_df.assign(l=((mini_df.y-1)*(box.shape[2])+(mini_df.x)-1))\n",
    "mini_df.head()"
   ]
  }
 ],
 "metadata": {
  "kernelspec": {
   "display_name": "Python 3",
   "language": "python",
   "name": "python3"
  },
  "language_info": {
   "codemirror_mode": {
    "name": "ipython",
    "version": 3
   },
   "file_extension": ".py",
   "mimetype": "text/x-python",
   "name": "python",
   "nbconvert_exporter": "python",
   "pygments_lexer": "ipython3",
   "version": "3.5.2"
  }
 },
 "nbformat": 4,
 "nbformat_minor": 0
}
