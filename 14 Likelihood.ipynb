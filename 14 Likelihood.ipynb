{
 "cells": [
  {
   "cell_type": "code",
   "execution_count": 1,
   "metadata": {
    "collapsed": true
   },
   "outputs": [],
   "source": [
    "import os\n",
    "import numpy as np\n",
    "import pandas as pd\n",
    "import xarray as xr\n",
    "\n",
    "from pointprocess import *\n",
    "import pointprocess.plotting as pplot\n",
    "from lightning_setup import *\n",
    "%matplotlib inline\n",
    "import matplotlib.pyplot as plt\n",
    "import cartopy.crs as ccrs"
   ]
  },
  {
   "cell_type": "code",
   "execution_count": 2,
   "metadata": {
    "collapsed": false
   },
   "outputs": [],
   "source": [
    "c = Region(city=cities['cedar'])\n",
    "c.SUBSETTED = False\n",
    "c.CENTER = (37.7, -111.8)\n",
    "c.RADIUS = 0.7\n",
    "c.define_grid(step=1, units='km')\n",
    "\n",
    "xx, yy = np.meshgrid(c.gridx[1:], c.gridy[1:])\n",
    "xx = xx.flatten()\n",
    "yy = yy.flatten()\n",
    "X = np.stack([yy, xx])"
   ]
  },
  {
   "cell_type": "code",
   "execution_count": 3,
   "metadata": {
    "collapsed": true
   },
   "outputs": [],
   "source": [
    "storm = '2011-08-21'"
   ]
  },
  {
   "cell_type": "code",
   "execution_count": 4,
   "metadata": {
    "collapsed": true
   },
   "outputs": [],
   "source": [
    "from titan import *\n",
    "fname = './input/{storm}.txt'.format(storm=storm)\n",
    "titan_df = read_TITAN(fname)"
   ]
  },
  {
   "cell_type": "code",
   "execution_count": 5,
   "metadata": {
    "collapsed": false
   },
   "outputs": [],
   "source": [
    "tr = titan_df.index.unique().sort_values()\n",
    "tr = tr.insert(0, tr[0]-pd.Timedelta(minutes=3))"
   ]
  },
  {
   "cell_type": "code",
   "execution_count": 6,
   "metadata": {
    "collapsed": true
   },
   "outputs": [],
   "source": [
    "ds = c.get_daily_ds(storm, filter_CG=dict(method='CG'))"
   ]
  },
  {
   "cell_type": "code",
   "execution_count": 7,
   "metadata": {
    "collapsed": false
   },
   "outputs": [],
   "source": [
    "# slice according to the titan times\n",
    "box, tr = c.get_grid_slices(ds, tr=tr)\n",
    "tr = tr[1:]"
   ]
  },
  {
   "cell_type": "code",
   "execution_count": 8,
   "metadata": {
    "collapsed": false
   },
   "outputs": [
    {
     "name": "stdout",
     "output_type": "stream",
     "text": [
      "The shape of the data is in the order t, x, y (102, 100, 124)\n"
     ]
    }
   ],
   "source": [
    "print('The shape of the data is in the order t, x, y', box.shape)"
   ]
  },
  {
   "cell_type": "code",
   "execution_count": 9,
   "metadata": {
    "collapsed": true
   },
   "outputs": [],
   "source": [
    "def Equation_19(box):\n",
    "    # total number of time periods\n",
    "    n1 = box.shape[0]\n",
    "\n",
    "    # total number of grids\n",
    "    n2 = box.shape[1] * box.shape[2]\n",
    "\n",
    "    # sum of counts over all the grid cells divided by n2\n",
    "    A = box.sum(axis=(1,2))/n2\n",
    "\n",
    "    # sum of counts over all the timesteps divided by n1\n",
    "    B = box.sum(axis=0).flatten()/n1\n",
    "\n",
    "    # 1 over sum of counts divided by n1 and n2\n",
    "    C = 1/(box.sum()/n1/n2)\n",
    "\n",
    "    # control lambda of k, l\n",
    "    lambda_k_l = np.outer(A, B)*C\n",
    "    \n",
    "    return lambda_k_l\n",
    "\n",
    "def Equation_18(box):\n",
    "    lambda_k_l = Equation_19(box)\n",
    "    return ((box - lambda_k_l.reshape(box.shape))**2).sum()"
   ]
  },
  {
   "cell_type": "code",
   "execution_count": 10,
   "metadata": {
    "collapsed": false
   },
   "outputs": [
    {
     "name": "stdout",
     "output_type": "stream",
     "text": [
      "CPU times: user 5.22 ms, sys: 13 ms, total: 18.2 ms\n",
      "Wall time: 17.7 ms\n"
     ]
    },
    {
     "data": {
      "text/plain": [
       "801.22501282631652"
      ]
     },
     "execution_count": 10,
     "metadata": {},
     "output_type": "execute_result"
    }
   ],
   "source": [
    "%%time\n",
    "Equation_18(box)"
   ]
  },
  {
   "cell_type": "code",
   "execution_count": 11,
   "metadata": {
    "collapsed": false
   },
   "outputs": [],
   "source": [
    "mini_df = titan_df[['EnvelopeArea(km2)', 'ReflCentroidLat(deg)', 'ReflCentroidLon(deg)', 'MaxDBZ(dBZ)', 'SimpleNum']]\n",
    "mini_df.columns = ['Ai', 'lat', 'lon', 'Zi', 'i']"
   ]
  },
  {
   "cell_type": "code",
   "execution_count": 12,
   "metadata": {
    "collapsed": false
   },
   "outputs": [],
   "source": [
    "def get_loc(ll, grid_ll):\n",
    "    if ll<grid_ll[-1] and ll>grid_ll[0]:\n",
    "        return np.argmax(grid_ll>ll)\n",
    "    else:\n",
    "        return np.nan\n",
    "\n",
    "def get_l(x, grid_lat, grid_lon):\n",
    "    '''\n",
    "    Given a latlon position, return the 1D and 2D index\n",
    "    of the corresponding grid cell. Also works on series\n",
    "    of positions\n",
    "    \n",
    "    Parameters\n",
    "    ----------\n",
    "    x: (lat, lon) where lat, lon are floats or series\n",
    "    grid_lat: list of the lat edges of the y grid cells\n",
    "    grid_lon: list of the lon edges of the x grid cells    \n",
    "    \n",
    "    Returns\n",
    "    -------\n",
    "    yloc, xloc, l: tuple of integers or tuple of series\n",
    "    \n",
    "    Examples\n",
    "    --------\n",
    "    # for one position\n",
    "    get_l((df.lat[0], df.lon[0]), c.gridy, c.gridx)\n",
    "    \n",
    "    df.assign(**dict(list(zip(['yloc', 'xloc', 'l'], \n",
    "                              get_l((df.lat, df.lon), \n",
    "                                    c.gridy, c.gridx)\n",
    "    '''\n",
    "    lat, lon = x\n",
    "    if hasattr(lat, '__iter__'):\n",
    "        yloc = lat.apply(get_loc, grid_ll=grid_lat)\n",
    "        xloc = lon.apply(get_loc, grid_ll=grid_lon)\n",
    "    else:\n",
    "        yloc = get_loc(lat, grid_lat)\n",
    "        xloc = get_loc(lon, grid_lon)\n",
    "    l = (yloc-1)*(grid_lon.shape[0]-1)+(xloc-1)\n",
    "    return yloc, xloc, l"
   ]
  },
  {
   "cell_type": "code",
   "execution_count": 13,
   "metadata": {
    "collapsed": false
   },
   "outputs": [
    {
     "name": "stdout",
     "output_type": "stream",
     "text": [
      "CPU times: user 2.66 ms, sys: 4.11 ms, total: 6.76 ms\n",
      "Wall time: 5.3 ms\n"
     ]
    }
   ],
   "source": [
    "%%time\n",
    "s = get_l((mini_df['lat'], mini_df['lon']), c.gridy, c.gridx)\n",
    "mini_df = mini_df.assign(**dict(list(zip(['yloc', 'xloc', 'l'], s))))"
   ]
  },
  {
   "cell_type": "code",
   "execution_count": 188,
   "metadata": {
    "collapsed": true
   },
   "outputs": [],
   "source": [
    "from geopy.distance import vincenty, great_circle"
   ]
  },
  {
   "cell_type": "code",
   "execution_count": 204,
   "metadata": {
    "collapsed": false
   },
   "outputs": [],
   "source": [
    "def Equation_11(x, Yi, sigmai, Ii):\n",
    "    g = Ii/(sigmai*(2*np.pi)**.5) * np.exp(-.5*(great_circle(Yi, x).km**2)/sigmai**2)\n",
    "    return g\n",
    "\n",
    "def Equation_12(Ai, gamma):\n",
    "    sigmai = gamma * (Ai/np.pi)**.5\n",
    "    return sigmai\n",
    "\n",
    "def Equation_13(Zi, alpha, beta):\n",
    "    Ii = alpha*(Zi-beta)\n",
    "    return Ii"
   ]
  },
  {
   "cell_type": "code",
   "execution_count": 212,
   "metadata": {
    "collapsed": true
   },
   "outputs": [],
   "source": [
    "def at_t(t, dfi, gamma, alpha, beta):\n",
    "    '''\n",
    "    This function is the powerhouse so anything we can \n",
    "    do to quicken things up with pay dividends later on\n",
    "    \n",
    "    Parameters\n",
    "    ----------\n",
    "    t: time at which there is a storm element\n",
    "    dfi: dataframe for just the storm\n",
    "    \n",
    "    Return\n",
    "    ------\n",
    "    g: np.array of shape nl\n",
    "    '''\n",
    "    # 1.69 ms\n",
    "    d = dfi.loc[t,:].to_dict()\n",
    "\n",
    "    sigmai = Equation_12(d['Ai'], gamma)\n",
    "    Ii = Equation_13(d['Zi'], alpha, beta)\n",
    "\n",
    "    g = []\n",
    "    ncols = c.gridx.shape[0]-1\n",
    "    for iy, y in enumerate(c.gridy[1:]):\n",
    "        if iy<(d['yloc']-sigmai*2) or iy>(d['yloc']+sigmai*2):\n",
    "            g.extend([0]*ncols)\n",
    "            continue\n",
    "        for ix, x in enumerate(c.gridx[1:]):\n",
    "            if ix<(d['xloc']-sigmai*2) or ix>(d['xloc']+sigmai*2):\n",
    "                g.append(0)\n",
    "                continue\n",
    "            g.append(Equation_11((y,x), Yi=(d['lat'],d['lon']), sigmai=sigmai, Ii=Ii))\n",
    "    return np.array(g)"
   ]
  },
  {
   "cell_type": "code",
   "execution_count": 213,
   "metadata": {
    "collapsed": false
   },
   "outputs": [],
   "source": [
    "def Equation_16(mini_df, gamma=1, alpha=0, beta=45):\n",
    "    '''\n",
    "    Benchmarking: 2.54 s for nl=12400, nk=102, ni=89\n",
    "    '''\n",
    "    gamma_at_t = []\n",
    "    for i, dfi in mini_df.groupby('i'):\n",
    "        gamma_at_t.extend([at_t(t, dfi, gamma, alpha, beta) for t in dfi.index])\n",
    "    gamma_at_t = np.stack(gamma_at_t)\n",
    "\n",
    "    bar = pd.DataFrame(gamma_at_t, index=titan_df.index)\n",
    "    bar = bar.sort_index()\n",
    "\n",
    "    d = {}\n",
    "    for t in tr:\n",
    "        d.update({t:bar[bar.index==t].sum()})\n",
    "    gamma_kl = pd.DataFrame(d).T\n",
    "\n",
    "    return gamma_kl.values.reshape(box.shape)"
   ]
  },
  {
   "cell_type": "code",
   "execution_count": 214,
   "metadata": {
    "collapsed": false
   },
   "outputs": [],
   "source": [
    "def Equation_17(N_kl, gamma_kl):\n",
    "    '''\n",
    "    Benchmarking: 5.41 ms\n",
    "    '''\n",
    "    L = ((np.subtract(N_kl, gamma_kl))**2).sum()\n",
    "    return L"
   ]
  },
  {
   "cell_type": "code",
   "execution_count": 217,
   "metadata": {
    "collapsed": false
   },
   "outputs": [
    {
     "data": {
      "text/plain": [
       "0.010726273253822506"
      ]
     },
     "execution_count": 217,
     "metadata": {},
     "output_type": "execute_result"
    }
   ],
   "source": [
    "strikes_per_dbz_45 = box.sum()/(mini_df.Ai*(mini_df.Zi-45)).sum()\n",
    "strikes_per_dbz_45"
   ]
  },
  {
   "cell_type": "code",
   "execution_count": 218,
   "metadata": {
    "collapsed": false
   },
   "outputs": [
    {
     "name": "stdout",
     "output_type": "stream",
     "text": [
      "      fun: 821.2474685254509\n",
      " hess_inv: array([[1, 0, 0],\n",
      "       [0, 1, 0],\n",
      "       [0, 0, 1]])\n",
      "      jac: array([-0.62825775, -0.35668945,  0.07924652])\n",
      "  message: 'Optimization terminated successfully.'\n",
      "     nfev: 15\n",
      "      nit: 1\n",
      "     njev: 3\n",
      "   status: 0\n",
      "  success: True\n",
      "        x: array([  1.00002479e+00,   1.31060173e-02,   4.49999945e+01])\n",
      "CPU times: user 38.6 s, sys: 1.26 s, total: 39.9 s\n",
      "Wall time: 39.9 s\n"
     ]
    }
   ],
   "source": [
    "%%time\n",
    "import scipy.optimize as optimize\n",
    "\n",
    "def f(c):\n",
    "    gamma_kl = Equation_16(mini_df, gamma=c[0], alpha=c[1], beta=c[2])\n",
    "    return Equation_17(box, gamma_kl)\n",
    "result = optimize.minimize(f, [1, strikes_per_dbz_45, 45], tol=10)\n",
    "print(result)"
   ]
  },
  {
   "cell_type": "code",
   "execution_count": null,
   "metadata": {
    "collapsed": true
   },
   "outputs": [],
   "source": [
    "%%time\n",
    "import scipy.optimize as optimize\n",
    "\n",
    "def f(c):\n",
    "    gamma_kl = Equation_16(mini_df, gamma=c[0], alpha=c[1], beta=c[2])\n",
    "    return Equation_17(box, gamma_kl)\n",
    "result = optimize.minimize(f, [1, strikes_per_dbz_45, 45], tol=5)\n",
    "print(result)"
   ]
  },
  {
   "cell_type": "markdown",
   "metadata": {},
   "source": [
    "### Unused"
   ]
  },
  {
   "cell_type": "code",
   "execution_count": 252,
   "metadata": {
    "collapsed": false
   },
   "outputs": [
    {
     "data": {
      "image/png": "[encoded data removed]",
      "text/plain": [
       "<matplotlib.figure.Figure at 0x7fda51533160>"
      ]
     },
     "metadata": {},
     "output_type": "display_data"
    }
   ],
   "source": [
    "plt.figure(figsize=(10,8))\n",
    "c.plot_grid(gamma_kl.values.reshape(box.shape)[50], cmap=cmap, cbar=True, vmin=.1)\n",
    "c.plot_grid(box[50], cmap=cmap, cbar=False, vmin=.1);"
   ]
  },
  {
   "cell_type": "code",
   "execution_count": 141,
   "metadata": {
    "collapsed": true
   },
   "outputs": [],
   "source": [
    "def at_t(t, dfi, gamma=1, alpha=0, beta=1):\n",
    "    # Benchmarking: 839 µs\n",
    "    Yi = (dfi.loc[t,'lat'], dfi.loc[t, 'lon'])\n",
    "    Ai = dfi.loc[t, 'Ai']\n",
    "    Zi = dfi.loc[t, 'Zi']\n",
    "    xloc = dfi.loc[t, 'x']\n",
    "    yloc = dfi.loc[t, 'y']\n",
    "\n",
    "    sigmai = Equation_12(Ai, gamma)\n",
    "    Ii = Equation_13(Zi-45, alpha, beta)\n",
    "    \n",
    "    # Benchmarking: 103 µs\n",
    "    xx, yy = np.meshgrid(c.gridx[max(0, int(xloc-Ai)): min(int(xloc+Ai), c.gridx.shape[0])],\n",
    "                         c.gridy[max(0, int(yloc-Ai)): min(int(yloc+Ai), c.gridy.shape[0])])\n",
    "    X = np.stack([yy.flatten(), xx.flatten()])\n",
    "\n",
    "    # Benchmarking: 3.7 ms\n",
    "    g = np.apply_along_axis(Equation_11, 0, X, Yi=Yi, sigmai=sigmai, Ii=Ii)\n",
    "    \n",
    "    #TODO but then we have a mis-shapen g_t\n",
    "    return g"
   ]
  },
  {
   "cell_type": "code",
   "execution_count": 120,
   "metadata": {
    "collapsed": true
   },
   "outputs": [],
   "source": [
    "def at_t(t, dfi, gamma=1, alpha=0, beta=1):\n",
    "    # Benchmarking: 839 µs per t\n",
    "    Yi = (dfi.loc[t,'lat'], dfi.loc[t, 'lon'])\n",
    "    sigmai = Equation_12(dfi.loc[t, 'Ai'], gamma)\n",
    "    Ii = Equation_13(dfi.loc[t, 'Zi']-45, alpha, beta)\n",
    "\n",
    "    # Benchmarking: 465 ms per t\n",
    "    g = np.apply_along_axis(Equation_11, 0, X, Yi=Yi, sigmai=sigmai, Ii=Ii)\n",
    "    return g"
   ]
  },
  {
   "cell_type": "code",
   "execution_count": 98,
   "metadata": {
    "collapsed": false
   },
   "outputs": [
    {
     "name": "stdout",
     "output_type": "stream",
     "text": [
      "CPU times: user 284 µs, sys: 7 µs, total: 291 µs\n",
      "Wall time: 273 µs\n"
     ]
    },
    {
     "data": {
      "text/plain": [
       "(86, 90, 10629)"
      ]
     },
     "execution_count": 98,
     "metadata": {},
     "output_type": "execute_result"
    }
   ],
   "source": [
    "%%time\n",
    "get_l((mini_df.lat[0], mini_df.lon[0]), c.gridy, c.gridx)"
   ]
  },
  {
   "cell_type": "code",
   "execution_count": 53,
   "metadata": {
    "collapsed": false
   },
   "outputs": [
    {
     "data": {
      "text/plain": [
       "38.205399999999997"
      ]
     },
     "execution_count": 53,
     "metadata": {},
     "output_type": "execute_result"
    }
   ],
   "source": [
    "mini_df.lat[0], mini_df.lon[0]"
   ]
  },
  {
   "cell_type": "code",
   "execution_count": 48,
   "metadata": {
    "collapsed": false
   },
   "outputs": [
    {
     "data": {
      "text/plain": [
       "124"
      ]
     },
     "execution_count": 48,
     "metadata": {},
     "output_type": "execute_result"
    }
   ],
   "source": [
    "box.shape[2]"
   ]
  },
  {
   "cell_type": "code",
   "execution_count": 49,
   "metadata": {
    "collapsed": false
   },
   "outputs": [
    {
     "data": {
      "text/plain": [
       "(125,)"
      ]
     },
     "execution_count": 49,
     "metadata": {},
     "output_type": "execute_result"
    }
   ],
   "source": [
    "c.gridx.shape"
   ]
  },
  {
   "cell_type": "code",
   "execution_count": 45,
   "metadata": {
    "collapsed": false
   },
   "outputs": [
    {
     "name": "stdout",
     "output_type": "stream",
     "text": [
      "CPU times: user 4.75 ms, sys: 2.98 ms, total: 7.73 ms\n",
      "Wall time: 97.5 ms\n"
     ]
    }
   ],
   "source": [
    "%%time\n",
    "# if lat, lon are within bounds, get the grid cell they fall in.\n",
    "def get_loc(ll, grid_ll):\n",
    "    if x<grid_ll[-1] and x>grid_ll[0]:\n",
    "        return np.argmax(grid_ll>x)\n",
    "    else:\n",
    "        return None\n",
    "    \n",
    "mini_df = mini_df.assign(x=mini_df.lon.apply(func, grid_lon=c.gridx),\n",
    "                         y=mini_df.lat.apply(func, grid_lon=c.gridy))"
   ]
  },
  {
   "cell_type": "code",
   "execution_count": 46,
   "metadata": {
    "collapsed": false
   },
   "outputs": [
    {
     "data": {
      "text/html": [
       "<div>\n",
       "<table border=\"1\" class=\"dataframe\">\n",
       "  <thead>\n",
       "    <tr style=\"text-align: right;\">\n",
       "      <th></th>\n",
       "      <th>Ai</th>\n",
       "      <th>lat</th>\n",
       "      <th>lon</th>\n",
       "      <th>Zi</th>\n",
       "      <th>i</th>\n",
       "      <th>x</th>\n",
       "      <th>y</th>\n",
       "      <th>l</th>\n",
       "    </tr>\n",
       "    <tr>\n",
       "      <th>date_time</th>\n",
       "      <th></th>\n",
       "      <th></th>\n",
       "      <th></th>\n",
       "      <th></th>\n",
       "      <th></th>\n",
       "      <th></th>\n",
       "      <th></th>\n",
       "      <th></th>\n",
       "    </tr>\n",
       "  </thead>\n",
       "  <tbody>\n",
       "    <tr>\n",
       "      <th>2011-08-21 18:10:20</th>\n",
       "      <td>4</td>\n",
       "      <td>38.2054</td>\n",
       "      <td>-111.485</td>\n",
       "      <td>48.4944</td>\n",
       "      <td>1</td>\n",
       "      <td>90.0</td>\n",
       "      <td>86.0</td>\n",
       "      <td>10629.0</td>\n",
       "    </tr>\n",
       "    <tr>\n",
       "      <th>2011-08-21 18:13:28</th>\n",
       "      <td>6</td>\n",
       "      <td>38.2083</td>\n",
       "      <td>-111.477</td>\n",
       "      <td>47.4992</td>\n",
       "      <td>1</td>\n",
       "      <td>91.0</td>\n",
       "      <td>86.0</td>\n",
       "      <td>10630.0</td>\n",
       "    </tr>\n",
       "    <tr>\n",
       "      <th>2011-08-21 18:16:37</th>\n",
       "      <td>7</td>\n",
       "      <td>38.2125</td>\n",
       "      <td>-111.477</td>\n",
       "      <td>50.6413</td>\n",
       "      <td>1</td>\n",
       "      <td>91.0</td>\n",
       "      <td>87.0</td>\n",
       "      <td>10754.0</td>\n",
       "    </tr>\n",
       "    <tr>\n",
       "      <th>2011-08-21 18:19:58</th>\n",
       "      <td>6</td>\n",
       "      <td>38.2181</td>\n",
       "      <td>-111.474</td>\n",
       "      <td>48.9443</td>\n",
       "      <td>1</td>\n",
       "      <td>91.0</td>\n",
       "      <td>87.0</td>\n",
       "      <td>10754.0</td>\n",
       "    </tr>\n",
       "    <tr>\n",
       "      <th>2011-08-21 18:23:06</th>\n",
       "      <td>2</td>\n",
       "      <td>38.2243</td>\n",
       "      <td>-111.471</td>\n",
       "      <td>46.5974</td>\n",
       "      <td>1</td>\n",
       "      <td>91.0</td>\n",
       "      <td>87.0</td>\n",
       "      <td>10754.0</td>\n",
       "    </tr>\n",
       "  </tbody>\n",
       "</table>\n",
       "</div>"
      ],
      "text/plain": [
       "                     Ai      lat      lon       Zi  i     x     y        l\n",
       "date_time                                                                 \n",
       "2011-08-21 18:10:20   4  38.2054 -111.485  48.4944  1  90.0  86.0  10629.0\n",
       "2011-08-21 18:13:28   6  38.2083 -111.477  47.4992  1  91.0  86.0  10630.0\n",
       "2011-08-21 18:16:37   7  38.2125 -111.477  50.6413  1  91.0  87.0  10754.0\n",
       "2011-08-21 18:19:58   6  38.2181 -111.474  48.9443  1  91.0  87.0  10754.0\n",
       "2011-08-21 18:23:06   2  38.2243 -111.471  46.5974  1  91.0  87.0  10754.0"
      ]
     },
     "execution_count": 46,
     "metadata": {},
     "output_type": "execute_result"
    }
   ],
   "source": [
    "mini_df = mini_df.assign(l=((mini_df.y-1)*(box.shape[2])+(mini_df.x)-1))\n",
    "mini_df.head()"
   ]
  },
  {
   "cell_type": "code",
   "execution_count": null,
   "metadata": {
    "collapsed": true
   },
   "outputs": [],
   "source": [
    "def get_l(x):\n",
    "    "
   ]
  }
 ],
 "metadata": {
  "kernelspec": {
   "display_name": "Python 3",
   "language": "python",
   "name": "python3"
  },
  "language_info": {
   "codemirror_mode": {
    "name": "ipython",
    "version": 3
   },
   "file_extension": ".py",
   "mimetype": "text/x-python",
   "name": "python",
   "nbconvert_exporter": "python",
   "pygments_lexer": "ipython3",
   "version": "3.5.2"
  }
 },
 "nbformat": 4,
 "nbformat_minor": 0
}
